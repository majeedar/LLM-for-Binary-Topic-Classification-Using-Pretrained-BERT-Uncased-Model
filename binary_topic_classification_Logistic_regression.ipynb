{
  "cells": [
    {
      "cell_type": "code",
      "execution_count": 24,
      "metadata": {
        "colab": {
          "base_uri": "https://localhost:8080/"
        },
        "id": "1IUQ2_PLWiZs",
        "outputId": "605faa33-385c-44b1-9ecf-cab73110ba29"
      },
      "outputs": [
        {
          "name": "stdout",
          "output_type": "stream",
          "text": [
            "Drive already mounted at /content/drive; to attempt to forcibly remount, call drive.mount(\"/content/drive\", force_remount=True).\n"
          ]
        }
      ],
      "source": [
        "\n",
        "from google.colab import drive\n",
        "drive.mount('/content/drive')\n",
        "\n"
      ]
    },
    {
      "cell_type": "code",
      "execution_count": 25,
      "metadata": {
        "colab": {
          "base_uri": "https://localhost:8080/"
        },
        "id": "6t2eR9-YYo2Y",
        "outputId": "e6d616ee-70b0-466f-de9f-7fb87f224a31"
      },
      "outputs": [
        {
          "name": "stdout",
          "output_type": "stream",
          "text": [
            "Index(['source_created_at', 'author_id', 'text', 'source', 'language',\n",
            "       'longitude', 'latitude', 'id', 'labels.topic', 'labels.sentiment',\n",
            "       'source_id'],\n",
            "      dtype='object')\n"
          ]
        }
      ],
      "source": [
        "import json\n",
        "import pandas as pd\n",
        "\n",
        "# Load the JSON data from Google Drive\n",
        "file_path = '/content/drive/My Drive/tweets_ws23_v1.json'\n",
        "with open(file_path, 'r') as file:\n",
        "    data = json.load(file)\n",
        "\n",
        "# Convert to DataFrame\n",
        "tweets_df = pd.json_normalize(data)\n",
        "\n",
        "print(tweets_df.columns)\n"
      ]
    },
    {
      "cell_type": "code",
      "execution_count": 26,
      "metadata": {
        "colab": {
          "base_uri": "https://localhost:8080/"
        },
        "id": "IfksRDqPQIG2",
        "outputId": "a00e8a02-9c4b-41c2-988a-b6c8347390f4"
      },
      "outputs": [
        {
          "name": "stdout",
          "output_type": "stream",
          "text": [
            "Shape of the normarlised Tweet Dataset:  (16949, 11)\n"
          ]
        }
      ],
      "source": [
        "# Display the first few rows of the Tweet DataFramprint( \"first few rows of Tweet Dataset: \", tweet_df.head())\n",
        "print(\"Shape of the normarlised Tweet Dataset: \", tweets_df.shape)"
      ]
    },
    {
      "cell_type": "code",
      "execution_count": 27,
      "metadata": {
        "colab": {
          "base_uri": "https://localhost:8080/"
        },
        "id": "n0d-_JlbQdiz",
        "outputId": "64bf3e22-9baf-4029-c9c2-5fd166924081"
      },
      "outputs": [
        {
          "name": "stdout",
          "output_type": "stream",
          "text": [
            "                                        labels.topic\n",
            "0  [{'tweet_id': 'acd7673f-e621-5f1a-d662-df27896...\n"
          ]
        }
      ],
      "source": [
        "print(tweets_df[['labels.topic']].head(1))"
      ]
    },
    {
      "cell_type": "code",
      "execution_count": 28,
      "metadata": {
        "colab": {
          "base_uri": "https://localhost:8080/"
        },
        "id": "wOySNV_fT5Z5",
        "outputId": "487043d9-83bb-4720-c055-f539e8075d2f"
      },
      "outputs": [
        {
          "name": "stdout",
          "output_type": "stream",
          "text": [
            "                               tweet_id   user_id  relevant    topic  \\\n",
            "0  acd7673f-e621-5f1a-d662-df278964a6ea  Z003XDCS      True  service   \n",
            "1  5b92aba8-4b05-6c63-8485-e9c870742137  Z003XDCS      True   delays   \n",
            "2  0a799c07-8b76-17ba-b840-e538d51e832d  Z003XDCS      True  toilets   \n",
            "3  8b4d2a34-c4f0-0e19-4055-dfe4af5f0e14  Z003XDCS      True  toilets   \n",
            "4  1fd08862-d8c7-0682-6b11-2603fba22d94  Z003XDCS      True    seats   \n",
            "\n",
            "   ground_truth                                    id  \n",
            "0          True  8655353b-cc71-1e89-95d5-1c4e6bf200e1  \n",
            "1          True  8aee5c86-6e93-24d4-6d9d-d8a9f2f19cef  \n",
            "2          True  2d54f18a-442d-b59b-9daf-0490dc64d21a  \n",
            "3          True  01db4b72-b21c-60f9-b627-5a47df56655a  \n",
            "4          True  4fe5177f-8347-1726-c2e9-cc183f16d5b1  \n"
          ]
        }
      ],
      "source": [
        "topic_df = pd.json_normalize(tweets_df['labels.topic'].explode())\n",
        "print(topic_df.head())"
      ]
    },
    {
      "cell_type": "code",
      "execution_count": 29,
      "metadata": {
        "colab": {
          "base_uri": "https://localhost:8080/"
        },
        "id": "wsWOgVUzV8OI",
        "outputId": "c5a4124e-ce98-44e5-ef70-bc1b063cdbfb"
      },
      "outputs": [
        {
          "name": "stdout",
          "output_type": "stream",
          "text": [
            "Index(['source_created_at', 'author_id', 'text', 'source', 'language',\n",
            "       'longitude', 'latitude', 'id', 'labels.topic', 'labels.sentiment',\n",
            "       'source_id', 'tweet_id', 'user_id', 'relevant', 'topic', 'ground_truth',\n",
            "       'id'],\n",
            "      dtype='object')\n",
            "            source_created_at           author_id  \\\n",
            "0  2020-09-18 21:56:20.798000           593731316   \n",
            "1  2020-10-13 07:31:53.122000  745583289520496640   \n",
            "2  2020-10-26 19:27:24.695000           303134761   \n",
            "3  2020-10-26 19:28:49.281000           303134761   \n",
            "4  2020-09-28 11:59:41.212000            56427671   \n",
            "\n",
            "                                                text    source language  \\\n",
            "0  @DSisourath The Thameslink core between London...  sprinklr       en   \n",
            "1  @DulwichHistory Loving the complaint about peo...  sprinklr       en   \n",
            "2  @SW_Help .And yet you have no toilets on some ...  sprinklr       en   \n",
            "3  @SW_Help you have no toilets on some of your t...  sprinklr       en   \n",
            "4  @SpeedySticks007 @MrNeilJH @TLRailUK @christia...  sprinklr       en   \n",
            "\n",
            "   longitude  latitude                                    id  \\\n",
            "0   -0.12574  51.50853  acd7673f-e621-5f1a-d662-df278964a6ea   \n",
            "1   -0.12574  51.50853  5b92aba8-4b05-6c63-8485-e9c870742137   \n",
            "2   -0.12574  51.50853  0a799c07-8b76-17ba-b840-e538d51e832d   \n",
            "3   -0.12574  51.50853  8b4d2a34-c4f0-0e19-4055-dfe4af5f0e14   \n",
            "4   -1.09125  50.79899  1fd08862-d8c7-0682-6b11-2603fba22d94   \n",
            "\n",
            "                                        labels.topic  \\\n",
            "0  [{'tweet_id': 'acd7673f-e621-5f1a-d662-df27896...   \n",
            "1  [{'tweet_id': '5b92aba8-4b05-6c63-8485-e9c8707...   \n",
            "2  [{'tweet_id': '0a799c07-8b76-17ba-b840-e538d51...   \n",
            "3  [{'tweet_id': '8b4d2a34-c4f0-0e19-4055-dfe4af5...   \n",
            "4  [{'tweet_id': '1fd08862-d8c7-0682-6b11-2603fba...   \n",
            "\n",
            "                                    labels.sentiment source_id  \\\n",
            "0  [{'tweet_id': 'acd7673f-e621-5f1a-d662-df27896...       NaN   \n",
            "1  [{'tweet_id': '5b92aba8-4b05-6c63-8485-e9c8707...       NaN   \n",
            "2  [{'tweet_id': '0a799c07-8b76-17ba-b840-e538d51...       NaN   \n",
            "3  [{'tweet_id': '8b4d2a34-c4f0-0e19-4055-dfe4af5...       NaN   \n",
            "4  [{'tweet_id': '1fd08862-d8c7-0682-6b11-2603fba...       NaN   \n",
            "\n",
            "                               tweet_id   user_id  relevant    topic  \\\n",
            "0  acd7673f-e621-5f1a-d662-df278964a6ea  Z003XDCS      True  service   \n",
            "1  5b92aba8-4b05-6c63-8485-e9c870742137  Z003XDCS      True   delays   \n",
            "2  0a799c07-8b76-17ba-b840-e538d51e832d  Z003XDCS      True  toilets   \n",
            "3  8b4d2a34-c4f0-0e19-4055-dfe4af5f0e14  Z003XDCS      True  toilets   \n",
            "4  1fd08862-d8c7-0682-6b11-2603fba22d94  Z003XDCS      True    seats   \n",
            "\n",
            "   ground_truth                                    id  \n",
            "0          True  8655353b-cc71-1e89-95d5-1c4e6bf200e1  \n",
            "1          True  8aee5c86-6e93-24d4-6d9d-d8a9f2f19cef  \n",
            "2          True  2d54f18a-442d-b59b-9daf-0490dc64d21a  \n",
            "3          True  01db4b72-b21c-60f9-b627-5a47df56655a  \n",
            "4          True  4fe5177f-8347-1726-c2e9-cc183f16d5b1  \n"
          ]
        }
      ],
      "source": [
        "# Concatenate the DataFrames horizontally (axis=1)\n",
        "merged_df = pd.concat([tweets_df, topic_df], axis=1)\n",
        "print(merged_df.columns)\n",
        "print(merged_df.head())\n"
      ]
    },
    {
      "cell_type": "code",
      "execution_count": 30,
      "metadata": {
        "id": "gqnMhH5_nFuA"
      },
      "outputs": [],
      "source": [
        "# Get indices of rows where topic is 'none'\n",
        "none_indices = merged_df[merged_df['topic'] == 'none'].index\n",
        "\n",
        "# Create the 'relevance' column and initialize it to 1\n",
        "merged_df['relevance'] = 'relevant'\n",
        "\n",
        "# Set 'relevance' to 0 for rows where topic is 'none'\n",
        "merged_df.loc[none_indices, 'relevance'] = 'not_relevant'\n"
      ]
    },
    {
      "cell_type": "code",
      "execution_count": 31,
      "metadata": {
        "colab": {
          "base_uri": "https://localhost:8080/",
          "height": 521
        },
        "id": "dzzmrxE-ZYvV",
        "outputId": "113a8034-6a88-4542-9f1b-720f437f4e12"
      },
      "outputs": [
        {
          "data": {
            "image/png": "[encoded data removed]",
            "text/plain": [
              "<Figure size 600x600 with 1 Axes>"
            ]
          },
          "metadata": {},
          "output_type": "display_data"
        }
      ],
      "source": [
        "import matplotlib.pyplot as plt\n",
        "\n",
        "# Calculate class distribution\n",
        "relevance_distribution = merged_df['relevance'].value_counts()\n",
        "\n",
        "# Create pie chart\n",
        "plt.figure(figsize=(6, 6))  # Adjust figure size as needed\n",
        "plt.pie(relevance_distribution, labels=relevance_distribution.index, autopct='%1.1f%%', startangle=90)\n",
        "plt.title('Class Distribution of Relevance')\n",
        "plt.show()"
      ]
    },
    {
      "cell_type": "code",
      "execution_count": 32,
      "metadata": {
        "colab": {
          "base_uri": "https://localhost:8080/"
        },
        "id": "gcRJmShKbpp_",
        "outputId": "bbbee05a-69e7-45e3-edb8-ae56dccccc8d"
      },
      "outputs": [
        {
          "name": "stdout",
          "output_type": "stream",
          "text": [
            "                        Topic  Count  Percentage\n",
            "0                      delays   9023   53.236179\n",
            "1                        none   2304   13.593722\n",
            "2                     service    884    5.215647\n",
            "3                     station    754    4.448640\n",
            "4                        wifi    620    3.658033\n",
            "5               train_general    385    2.271520\n",
            "6                       covid    375    2.212520\n",
            "7               announcements    315    1.858517\n",
            "8                       seats    283    1.669715\n",
            "9                     toilets    282    1.663815\n",
            "10  tickets/seat_reservations    273    1.610714\n",
            "11                  vandalism    273    1.610714\n",
            "12           air conditioning    252    1.486813\n",
            "13                      doors    197    1.162310\n",
            "14                     tables    189    1.115110\n",
            "15                       hvac    172    1.014809\n",
            "16                      plugs    135    0.796507\n",
            "17                      noise     77    0.454304\n",
            "18                    windows     50    0.295003\n",
            "19                      floor     45    0.265502\n",
            "20                     brakes     44    0.259602\n",
            "21                       roof     15    0.088501\n",
            "22                  handrails      2    0.011800\n"
          ]
        }
      ],
      "source": [
        "import pandas as pd\n",
        "\n",
        "# Assuming merged_df is your DataFrame and 'topic' is the column with topic information\n",
        "\n",
        "# Get the frequency of each unique topic\n",
        "topic_counts = merged_df['topic'].value_counts()\n",
        "\n",
        "# Calculate the percentage of each topic\n",
        "topic_percentages = (topic_counts / topic_counts.sum()) * 100\n",
        "\n",
        "# Create a DataFrame for the table\n",
        "topic_table = pd.DataFrame({'Topic': topic_counts.index, 'Count': topic_counts.values, 'Percentage': topic_percentages.values})\n",
        "\n",
        "# Display the table\n",
        "print(topic_table)"
      ]
    },
    {
      "cell_type": "code",
      "execution_count": 32,
      "metadata": {
        "id": "buEngYLPYX5E"
      },
      "outputs": [],
      "source": []
    },
    {
      "cell_type": "markdown",
      "metadata": {
        "id": "eDV4SyQedjHg"
      },
      "source": [
        "# Data preprocessing"
      ]
    },
    {
      "cell_type": "code",
      "execution_count": 33,
      "metadata": {
        "colab": {
          "base_uri": "https://localhost:8080/"
        },
        "id": "aqkUaB2_YX0K",
        "outputId": "485431e8-792d-4bc3-bf2c-42e6e81e7705"
      },
      "outputs": [
        {
          "name": "stdout",
          "output_type": "stream",
          "text": [
            "Shape of X_train: (13559,)\n",
            "Shape of X_test: (3390,)\n",
            "Shape of y_train: (13559,)\n",
            "Shape of y_test: (3390,)\n"
          ]
        }
      ],
      "source": [
        "from sklearn.model_selection import train_test_split\n",
        "\n",
        "# Assuming merged_df is your DataFrame\n",
        "\n",
        "# Extract features (X) and labels (y)\n",
        "X = merged_df['text']\n",
        "y = merged_df['relevance']\n",
        "\n",
        "# Split the data into training and testing sets\n",
        "X_train, X_test, y_train, y_test = train_test_split(X, y, test_size=0.2, stratify=y, random_state=42)  # Adjust test_size and random_state as needed\n",
        "\n",
        "print(\"Shape of X_train:\", X_train.shape)\n",
        "print(\"Shape of X_test:\", X_test.shape)\n",
        "print(\"Shape of y_train:\", y_train.shape)\n",
        "print(\"Shape of y_test:\", y_test.shape)"
      ]
    },
    {
      "cell_type": "code",
      "execution_count": 34,
      "metadata": {
        "id": "DY_B-wHyjMyK"
      },
      "outputs": [],
      "source": [
        "#pip install torch"
      ]
    },
    {
      "cell_type": "code",
      "execution_count": 34,
      "metadata": {
        "id": "o-8HntNeip3q"
      },
      "outputs": [],
      "source": []
    },
    {
      "cell_type": "markdown",
      "metadata": {
        "id": "1_G27ObUglFa"
      },
      "source": [
        "Data Cleaning"
      ]
    },
    {
      "cell_type": "code",
      "execution_count": 35,
      "metadata": {
        "id": "ZAaGLgBoYXvK"
      },
      "outputs": [],
      "source": [
        "import re\n",
        "\n",
        "# Define a regular expression pattern to keep numbers, letters, and specific characters (e.g., '#', '@')\n",
        "pattern = re.compile('[^a-zA-Z0-9]')  # Adjust the characters within the square brackets as needed\n",
        "\n",
        "# Clean X_train\n",
        "X_train = X_train.apply(lambda text: pattern.sub(' ', text))\n",
        "\n",
        "# Clean X_test\n",
        "X_test = X_test.apply(lambda text: pattern.sub(' ', text))"
      ]
    },
    {
      "cell_type": "code",
      "execution_count": 36,
      "metadata": {
        "colab": {
          "base_uri": "https://localhost:8080/"
        },
        "id": "dHq4GmniYXma",
        "outputId": "51ada869-7742-4573-d87b-4e2bc1d593d6"
      },
      "outputs": [
        {
          "name": "stdout",
          "output_type": "stream",
          "text": [
            "9210      TLRailUK really disappointed with the way you...\n",
            "9394      TLRailUK the 1716 from elstree to Sutton is d...\n",
            "15082     TLRailUK Thanks  The 0701 departed at 0704  W...\n",
            "4257      SouthernRailUK  TLRailUK what with the wifi  ...\n",
            "5290       TLRailUK  tlupdates are a rubbish train company\n",
            "Name: text, dtype: object\n"
          ]
        }
      ],
      "source": [
        "print(X_train.head())"
      ]
    },
    {
      "cell_type": "markdown",
      "metadata": {
        "id": "mtgonCluWiZv"
      },
      "source": [
        "\n",
        "Resample classes"
      ]
    },
    {
      "cell_type": "markdown",
      "metadata": {
        "id": "2V7sZ_B1WiZw"
      },
      "source": [
        "Update the Model Configuration"
      ]
    },
    {
      "cell_type": "code",
      "execution_count": 37,
      "metadata": {
        "colab": {
          "base_uri": "https://localhost:8080/"
        },
        "id": "ZZEXYyb6o2w_",
        "outputId": "e185d87d-5bea-4263-bebf-42fd784b25d6"
      },
      "outputs": [
        {
          "name": "stdout",
          "output_type": "stream",
          "text": [
            "2\n",
            "['relevant', 'not_relevant']\n"
          ]
        }
      ],
      "source": [
        "unique_labels = merged_df['relevance'].unique().tolist()\n",
        "print(len(unique_labels))\n",
        "print(unique_labels)"
      ]
    },
    {
      "cell_type": "markdown",
      "metadata": {
        "id": "XmvrSPbyp9QV"
      },
      "source": []
    },
    {
      "cell_type": "code",
      "execution_count": 38,
      "metadata": {
        "id": "T769mpnCt54P"
      },
      "outputs": [],
      "source": [
        "from sklearn.preprocessing import LabelEncoder\n",
        "\n",
        "# Create a LabelEncoder instance\n",
        "label_encoder = LabelEncoder()\n",
        "\n",
        "# Fit the encoder on all unique labels\n",
        "all_labels = pd.concat([y_train, y_test], axis=0) # this is done to avoid unseen labels in the test dataset.\n",
        "label_encoder.fit(all_labels)\n",
        "\n",
        "# Transform y_train and y_test\n",
        "y_train_encoded = label_encoder.transform(y_train)\n",
        "y_test_encoded = label_encoder.transform(y_test)\n"
      ]
    },
    {
      "cell_type": "markdown",
      "metadata": {
        "id": "0xx8V1ZZhh4G"
      },
      "source": [
        "Restarting the process\n"
      ]
    },
    {
      "cell_type": "code",
      "execution_count": 39,
      "metadata": {
        "id": "EiWssfZvZgkV"
      },
      "outputs": [],
      "source": [
        "from sklearn.feature_extraction.text import TfidfVectorizer\n",
        "\n",
        "# Create a TF-IDF vectorizer\n",
        "vectorizer = TfidfVectorizer(max_features=5000)  # Adjust max_features as needed\n",
        "\n",
        "# Fit and transform the training data\n",
        "X_train_tfidf = vectorizer.fit_transform(X_train)\n",
        "\n",
        "# Transform the testing data\n",
        "X_test_tfidf = vectorizer.transform(X_test)"
      ]
    },
    {
      "cell_type": "code",
      "execution_count": 40,
      "metadata": {
        "id": "bOTaE6kMqQBR"
      },
      "outputs": [],
      "source": [
        "from sklearn.impute import SimpleImputer, KNNImputer\n",
        "from sklearn.neighbors import KNeighborsClassifier\n",
        "from sklearn.ensemble import RandomForestClassifier\n",
        "from sklearn.svm import SVC\n",
        "from itertools import product\n",
        "from sklearn.metrics import accuracy_score, classification_report\n",
        "from sklearn.model_selection import train_test_split, KFold, cross_val_score\n",
        "from sklearn.tree import DecisionTreeClassifier\n",
        "from sklearn.naive_bayes import GaussianNB\n",
        "from sklearn.linear_model import LogisticRegression\n",
        "from sklearn.ensemble import GradientBoostingClassifier\n",
        "from sklearn.metrics import confusion_matrix\n",
        "import matplotlib.pyplot as plt\n",
        "import seaborn as sns"
      ]
    },
    {
      "cell_type": "code",
      "execution_count": 41,
      "metadata": {
        "colab": {
          "base_uri": "https://localhost:8080/",
          "height": 115
        },
        "id": "qeoYAYKg8pXt",
        "outputId": "4111bab6-cb29-41e9-cba6-d235090ba022"
      },
      "outputs": [
        {
          "name": "stdout",
          "output_type": "stream",
          "text": [
            "Cross-validation results (mean accuracy):\n"
          ]
        },
        {
          "data": {
            "application/vnd.google.colaboratory.intrinsic+json": {
              "summary": "{\n  \"name\": \"cv1\",\n  \"rows\": 1,\n  \"fields\": [\n    {\n      \"column\": \"KNeighbors\",\n      \"properties\": {\n        \"dtype\": \"number\",\n        \"std\": null,\n        \"min\": 0.8742532301429209,\n        \"max\": 0.8742532301429209,\n        \"num_unique_values\": 1,\n        \"samples\": [\n          0.8742532301429209\n        ],\n        \"semantic_type\": \"\",\n        \"description\": \"\"\n      }\n    },\n    {\n      \"column\": \"Random Forest\",\n      \"properties\": {\n        \"dtype\": \"number\",\n        \"std\": null,\n        \"min\": 0.8806698124503368,\n        \"max\": 0.8806698124503368,\n        \"num_unique_values\": 1,\n        \"samples\": [\n          0.8806698124503368\n        ],\n        \"semantic_type\": \"\",\n        \"description\": \"\"\n      }\n    },\n    {\n      \"column\": \"Decision Tree\",\n      \"properties\": {\n        \"dtype\": \"number\",\n        \"std\": null,\n        \"min\": 0.8464480945694411,\n        \"max\": 0.8464480945694411,\n        \"num_unique_values\": 1,\n        \"samples\": [\n          0.8464480945694411\n        ],\n        \"semantic_type\": \"\",\n        \"description\": \"\"\n      }\n    },\n    {\n      \"column\": \"SVM\",\n      \"properties\": {\n        \"dtype\": \"number\",\n        \"std\": null,\n        \"min\": 0.8856845617128739,\n        \"max\": 0.8856845617128739,\n        \"num_unique_values\": 1,\n        \"samples\": [\n          0.8856845617128739\n        ],\n        \"semantic_type\": \"\",\n        \"description\": \"\"\n      }\n    },\n    {\n      \"column\": \"Logistic regression\",\n      \"properties\": {\n        \"dtype\": \"number\",\n        \"std\": null,\n        \"min\": 0.884356964808586,\n        \"max\": 0.884356964808586,\n        \"num_unique_values\": 1,\n        \"samples\": [\n          0.884356964808586\n        ],\n        \"semantic_type\": \"\",\n        \"description\": \"\"\n      }\n    },\n    {\n      \"column\": \"Gradient Booster\",\n      \"properties\": {\n        \"dtype\": \"number\",\n        \"std\": null,\n        \"min\": 0.881702206402595,\n        \"max\": 0.881702206402595,\n        \"num_unique_values\": 1,\n        \"samples\": [\n          0.881702206402595\n        ],\n        \"semantic_type\": \"\",\n        \"description\": \"\"\n      }\n    }\n  ]\n}",
              "type": "dataframe",
              "variable_name": "cv1"
            },
            "text/html": [
              "\n",
              "  <div id=\"df-1dcbd628-2229-4ca5-979c-7c29df3035c1\" class=\"colab-df-container\">\n",
              "    <div>\n",
              "<style scoped>\n",
              "    .dataframe tbody tr th:only-of-type {\n",
              "        vertical-align: middle;\n",
              "    }\n",
              "\n",
              "    .dataframe tbody tr th {\n",
              "        vertical-align: top;\n",
              "    }\n",
              "\n",
              "    .dataframe thead th {\n",
              "        text-align: right;\n",
              "    }\n",
              "</style>\n",
              "<table border=\"1\" class=\"dataframe\">\n",
              "  <thead>\n",
              "    <tr style=\"text-align: right;\">\n",
              "      <th></th>\n",
              "      <th>KNeighbors</th>\n",
              "      <th>Random Forest</th>\n",
              "      <th>Decision Tree</th>\n",
              "      <th>SVM</th>\n",
              "      <th>Logistic regression</th>\n",
              "      <th>Gradient Booster</th>\n",
              "    </tr>\n",
              "  </thead>\n",
              "  <tbody>\n",
              "    <tr>\n",
              "      <th>KNN/Boruta/ROSE</th>\n",
              "      <td>0.874253</td>\n",
              "      <td>0.88067</td>\n",
              "      <td>0.846448</td>\n",
              "      <td>0.885685</td>\n",
              "      <td>0.884357</td>\n",
              "      <td>0.881702</td>\n",
              "    </tr>\n",
              "  </tbody>\n",
              "</table>\n",
              "</div>\n",
              "    <div class=\"colab-df-buttons\">\n",
              "\n",
              "  <div class=\"colab-df-container\">\n",
              "    <button class=\"colab-df-convert\" onclick=\"convertToInteractive('df-1dcbd628-2229-4ca5-979c-7c29df3035c1')\"\n",
              "            title=\"Convert this dataframe to an interactive table.\"\n",
              "            style=\"display:none;\">\n",
              "\n",
              "  <svg xmlns=\"http://www.w3.org/2000/svg\" height=\"24px\" viewBox=\"0 -960 960 960\">\n",
              "    <path d=\"M120-120v-720h720v720H120Zm60-500h600v-160H180v160Zm220 220h160v-160H400v160Zm0 220h160v-160H400v160ZM180-400h160v-160H180v160Zm440 0h160v-160H620v160ZM180-180h160v-160H180v160Zm440 0h160v-160H620v160Z\"/>\n",
              "  </svg>\n",
              "    </button>\n",
              "\n",
              "  <style>\n",
              "    .colab-df-container {\n",
              "      display:flex;\n",
              "      gap: 12px;\n",
              "    }\n",
              "\n",
              "    .colab-df-convert {\n",
              "      background-color: #E8F0FE;\n",
              "      border: none;\n",
              "      border-radius: 50%;\n",
              "      cursor: pointer;\n",
              "      display: none;\n",
              "      fill: #1967D2;\n",
              "      height: 32px;\n",
              "      padding: 0 0 0 0;\n",
              "      width: 32px;\n",
              "    }\n",
              "\n",
              "    .colab-df-convert:hover {\n",
              "      background-color: #E2EBFA;\n",
              "      box-shadow: 0px 1px 2px rgba(60, 64, 67, 0.3), 0px 1px 3px 1px rgba(60, 64, 67, 0.15);\n",
              "      fill: #174EA6;\n",
              "    }\n",
              "\n",
              "    .colab-df-buttons div {\n",
              "      margin-bottom: 4px;\n",
              "    }\n",
              "\n",
              "    [theme=dark] .colab-df-convert {\n",
              "      background-color: #3B4455;\n",
              "      fill: #D2E3FC;\n",
              "    }\n",
              "\n",
              "    [theme=dark] .colab-df-convert:hover {\n",
              "      background-color: #434B5C;\n",
              "      box-shadow: 0px 1px 3px 1px rgba(0, 0, 0, 0.15);\n",
              "      filter: drop-shadow(0px 1px 2px rgba(0, 0, 0, 0.3));\n",
              "      fill: #FFFFFF;\n",
              "    }\n",
              "  </style>\n",
              "\n",
              "    <script>\n",
              "      const buttonEl =\n",
              "        document.querySelector('#df-1dcbd628-2229-4ca5-979c-7c29df3035c1 button.colab-df-convert');\n",
              "      buttonEl.style.display =\n",
              "        google.colab.kernel.accessAllowed ? 'block' : 'none';\n",
              "\n",
              "      async function convertToInteractive(key) {\n",
              "        const element = document.querySelector('#df-1dcbd628-2229-4ca5-979c-7c29df3035c1');\n",
              "        const dataTable =\n",
              "          await google.colab.kernel.invokeFunction('convertToInteractive',\n",
              "                                                    [key], {});\n",
              "        if (!dataTable) return;\n",
              "\n",
              "        const docLinkHtml = 'Like what you see? Visit the ' +\n",
              "          '<a target=\"_blank\" href=https://colab.research.google.com/notebooks/data_table.ipynb>data table notebook</a>'\n",
              "          + ' to learn more about interactive tables.';\n",
              "        element.innerHTML = '';\n",
              "        dataTable['output_type'] = 'display_data';\n",
              "        await google.colab.output.renderOutput(dataTable, element);\n",
              "        const docLink = document.createElement('div');\n",
              "        docLink.innerHTML = docLinkHtml;\n",
              "        element.appendChild(docLink);\n",
              "      }\n",
              "    </script>\n",
              "  </div>\n",
              "\n",
              "\n",
              "  <div id=\"id_e824540b-5c0d-4539-832d-6904169c169a\">\n",
              "    <style>\n",
              "      .colab-df-generate {\n",
              "        background-color: #E8F0FE;\n",
              "        border: none;\n",
              "        border-radius: 50%;\n",
              "        cursor: pointer;\n",
              "        display: none;\n",
              "        fill: #1967D2;\n",
              "        height: 32px;\n",
              "        padding: 0 0 0 0;\n",
              "        width: 32px;\n",
              "      }\n",
              "\n",
              "      .colab-df-generate:hover {\n",
              "        background-color: #E2EBFA;\n",
              "        box-shadow: 0px 1px 2px rgba(60, 64, 67, 0.3), 0px 1px 3px 1px rgba(60, 64, 67, 0.15);\n",
              "        fill: #174EA6;\n",
              "      }\n",
              "\n",
              "      [theme=dark] .colab-df-generate {\n",
              "        background-color: #3B4455;\n",
              "        fill: #D2E3FC;\n",
              "      }\n",
              "\n",
              "      [theme=dark] .colab-df-generate:hover {\n",
              "        background-color: #434B5C;\n",
              "        box-shadow: 0px 1px 3px 1px rgba(0, 0, 0, 0.15);\n",
              "        filter: drop-shadow(0px 1px 2px rgba(0, 0, 0, 0.3));\n",
              "        fill: #FFFFFF;\n",
              "      }\n",
              "    </style>\n",
              "    <button class=\"colab-df-generate\" onclick=\"generateWithVariable('cv1')\"\n",
              "            title=\"Generate code using this dataframe.\"\n",
              "            style=\"display:none;\">\n",
              "\n",
              "  <svg xmlns=\"http://www.w3.org/2000/svg\" height=\"24px\"viewBox=\"0 0 24 24\"\n",
              "       width=\"24px\">\n",
              "    <path d=\"M7,19H8.4L18.45,9,17,7.55,7,17.6ZM5,21V16.75L18.45,3.32a2,2,0,0,1,2.83,0l1.4,1.43a1.91,1.91,0,0,1,.58,1.4,1.91,1.91,0,0,1-.58,1.4L9.25,21ZM18.45,9,17,7.55Zm-12,3A5.31,5.31,0,0,0,4.9,8.1,5.31,5.31,0,0,0,1,6.5,5.31,5.31,0,0,0,4.9,4.9,5.31,5.31,0,0,0,6.5,1,5.31,5.31,0,0,0,8.1,4.9,5.31,5.31,0,0,0,12,6.5,5.46,5.46,0,0,0,6.5,12Z\"/>\n",
              "  </svg>\n",
              "    </button>\n",
              "    <script>\n",
              "      (() => {\n",
              "      const buttonEl =\n",
              "        document.querySelector('#id_e824540b-5c0d-4539-832d-6904169c169a button.colab-df-generate');\n",
              "      buttonEl.style.display =\n",
              "        google.colab.kernel.accessAllowed ? 'block' : 'none';\n",
              "\n",
              "      buttonEl.onclick = () => {\n",
              "        google.colab.notebook.generateWithVariable('cv1');\n",
              "      }\n",
              "      })();\n",
              "    </script>\n",
              "  </div>\n",
              "\n",
              "    </div>\n",
              "  </div>\n"
            ],
            "text/plain": [
              "                 KNeighbors  Random Forest  Decision Tree       SVM  \\\n",
              "KNN/Boruta/ROSE    0.874253        0.88067       0.846448  0.885685   \n",
              "\n",
              "                 Logistic regression  Gradient Booster  \n",
              "KNN/Boruta/ROSE             0.884357          0.881702  "
            ]
          },
          "execution_count": 41,
          "metadata": {},
          "output_type": "execute_result"
        }
      ],
      "source": [
        "# Define KFold cross-validation\n",
        "kfold = KFold(n_splits=10, shuffle=True, random_state=42)\n",
        "\n",
        "# Define the models to be used\n",
        "models = {\n",
        "    'KNeighbors': KNeighborsClassifier(n_neighbors=3),\n",
        "    'Random Forest': RandomForestClassifier(),\n",
        "    'Decision Tree': DecisionTreeClassifier(),\n",
        "    'SVM': SVC(), 'Logistic regression' : LogisticRegression(),\n",
        "    'Gradient Booster' : GradientBoostingClassifier()\n",
        "\n",
        "}\n",
        "\n",
        "\n",
        "\n",
        "# Evaluate each model with KFold cross-validation and collect the results\n",
        "model_results = {}\n",
        "for model_name, model in models.items():\n",
        "    # Use cross_val_score to evaluate the pipeline with KFold\n",
        "    scores = cross_val_score(model, X_train_tfidf, y_train_encoded, cv=kfold, scoring='accuracy')\n",
        "    model_results[model_name] = scores.mean()  # Store the mean accuracy of the model\n",
        "\n",
        "\n",
        "# Create a cross table of CV results\n",
        "print(\"Cross-validation results (mean accuracy):\")\n",
        "cv1=pd.DataFrame(model_results, index=['KNN/Boruta/ROSE'])\n",
        "cv1"
      ]
    },
    {
      "cell_type": "code",
      "execution_count": 42,
      "metadata": {
        "colab": {
          "base_uri": "https://localhost:8080/"
        },
        "id": "r9A9LsMQ8pnN",
        "outputId": "0a8c22f9-c29b-43bf-c8ea-2e713eb75b90"
      },
      "outputs": [
        {
          "name": "stdout",
          "output_type": "stream",
          "text": [
            "Best parameters: {'C': 1, 'penalty': 'l1', 'solver': 'liblinear'}\n",
            "Best score: 0.8853158877467413\n"
          ]
        }
      ],
      "source": [
        "from sklearn.model_selection import GridSearchCV\n",
        "from sklearn.linear_model import LogisticRegression\n",
        "\n",
        "# Define the parameter grid\n",
        "param_grid = {\n",
        "    'penalty': ['l1', 'l2'],  # Regularization penalty\n",
        "    'C': [0.1, 1, 10, 100],  # Inverse of regularization strength\n",
        "    'solver': ['liblinear', 'saga']  # Algorithm to use in the optimization problem\n",
        "}\n",
        "\n",
        "# Create a Logistic Regression classifier\n",
        "logistic_regression = LogisticRegression(random_state=42)\n",
        "\n",
        "# Create GridSearchCV object\n",
        "grid_search = GridSearchCV(\n",
        "    estimator=logistic_regression,\n",
        "    param_grid=param_grid,\n",
        "    scoring='accuracy',  # Use appropriate scoring metric\n",
        "    cv=5,  # Number of cross-validation folds\n",
        "    n_jobs=-1  # Use all available CPU cores\n",
        ")\n",
        "\n",
        "# Fit the grid search to the data\n",
        "grid_search.fit(X_train_tfidf, y_train)\n",
        "\n",
        "# Print the best parameters and best score\n",
        "print(\"Best parameters:\", grid_search.best_params_)\n",
        "print(\"Best score:\", grid_search.best_score_)\n",
        "\n",
        "# Get the best model\n",
        "best_logistic_regression_model = grid_search.best_estimator_"
      ]
    },
    {
      "cell_type": "code",
      "execution_count": 43,
      "metadata": {
        "colab": {
          "base_uri": "https://localhost:8080/",
          "height": 565
        },
        "id": "X0ymZ4oGFQcV",
        "outputId": "0ba5f313-cdd8-4828-96ac-1196b37a77e8"
      },
      "outputs": [
        {
          "data": {
            "image/png": "[encoded data removed]",
            "text/plain": [
              "<Figure size 800x600 with 2 Axes>"
            ]
          },
          "metadata": {},
          "output_type": "display_data"
        }
      ],
      "source": [
        "import numpy as np\n",
        "import matplotlib.pyplot as plt\n",
        "import seaborn as sns\n",
        "from sklearn.metrics import confusion_matrix\n",
        "\n",
        "# Make predictions on the test set using the best model\n",
        "y_pred = best_logistic_regression_model.predict(X_test_tfidf)\n",
        "\n",
        "# Define the label mapping\n",
        "label_mapping = [\"not_relevant\", \"relevant\"]\n",
        "\n",
        "# Create confusion matrix\n",
        "conf_matrix = confusion_matrix(y_test, y_pred)\n",
        "\n",
        "# Plot confusion matrix using Seaborn heatmap\n",
        "plt.figure(figsize=(8, 6))\n",
        "sns.heatmap(\n",
        "    conf_matrix,\n",
        "    annot=True,\n",
        "    fmt=\"d\",\n",
        "    cmap=\"Blues\",\n",
        "    xticklabels=label_mapping,\n",
        "    yticklabels=label_mapping,\n",
        ")\n",
        "plt.xlabel(\"Predicted Label\")\n",
        "plt.ylabel(\"True Label\")\n",
        "plt.title(\"Confusion Matrix for Logistic Regression\")\n",
        "plt.xticks(rotation=45, ha=\"right\")\n",
        "plt.tight_layout()\n",
        "plt.show()"
      ]
    },
    {
      "cell_type": "markdown",
      "metadata": {
        "id": "dZOCsR5RaGRK"
      },
      "source": [
        "[link text](https://)"
      ]
    },
    {
      "cell_type": "code",
      "execution_count": 44,
      "metadata": {
        "colab": {
          "base_uri": "https://localhost:8080/",
          "height": 575
        },
        "id": "vijIcMGuIOBZ",
        "outputId": "257f44d6-c91f-4ca0-ea73-dec8cae50987"
      },
      "outputs": [
        {
          "data": {
            "image/png": "[encoded data removed]",
            "text/plain": [
              "<Figure size 800x600 with 2 Axes>"
            ]
          },
          "metadata": {},
          "output_type": "display_data"
        }
      ],
      "source": [
        "# Make predictions on the test set using the best model\n",
        "y_pred = best_logistic_regression_model.predict(X_test_tfidf)\n",
        "\n",
        "# Define the label mapping\n",
        "label_mapping = [\"not_relevant\", \"relevant\"]\n",
        "\n",
        "# Create confusion matrix\n",
        "conf_matrix = confusion_matrix(y_test, y_pred)\n",
        "\n",
        "# Normalize confusion matrix\n",
        "conf_matrix_normalized = conf_matrix.astype('float') / conf_matrix.sum(axis=1)[:, np.newaxis]\n",
        "\n",
        "# Plot normalized confusion matrix using Seaborn heatmap\n",
        "plt.figure(figsize=(8, 6))\n",
        "sns.heatmap(\n",
        "    conf_matrix_normalized,\n",
        "    annot=True,\n",
        "    fmt=\".2f\",  # Format annotations to two decimal places\n",
        "    cmap=\"Blues\",\n",
        "    xticklabels=label_mapping,\n",
        "    yticklabels=label_mapping,\n",
        ")\n",
        "plt.xlabel(\"Predicted Label\")\n",
        "plt.ylabel(\"True Label\")\n",
        "plt.title(\"Normalized Confusion Matrix for Logistic Regression\")\n",
        "plt.xticks(rotation=45, ha=\"right\")\n",
        "plt.tight_layout()\n",
        "plt.show()"
      ]
    }
  ],
  "metadata": {
    "accelerator": "GPU",
    "colab": {
      "gpuType": "T4",
      "provenance": []
    },
    "kernelspec": {
      "display_name": "Python 3",
      "name": "python3"
    },
    "language_info": {
      "codemirror_mode": {
        "name": "ipython",
        "version": 3
      },
      "file_extension": ".py",
      "mimetype": "text/x-python",
      "name": "python",
      "nbconvert_exporter": "python",
      "pygments_lexer": "ipython3",
      "version": "3.9.12"
    }
  },
  "nbformat": 4,
  "nbformat_minor": 0
}
